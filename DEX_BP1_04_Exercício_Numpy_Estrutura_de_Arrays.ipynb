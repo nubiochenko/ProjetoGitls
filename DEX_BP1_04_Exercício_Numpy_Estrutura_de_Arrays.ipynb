{
  "nbformat": 4,
  "nbformat_minor": 0,
  "metadata": {
    "colab": {
      "name": "DEX - BP1 04 - Exercício - Numpy: Estrutura de Arrays.ipynb",
      "provenance": [],
      "collapsed_sections": [],
      "include_colab_link": true
    },
    "kernelspec": {
      "name": "python3",
      "display_name": "Python 3"
    },
    "language_info": {
      "name": "python"
    }
  },
  "cells": [
    {
      "cell_type": "markdown",
      "metadata": {
        "id": "view-in-github",
        "colab_type": "text"
      },
      "source": [
        "<a href=\"https://colab.research.google.com/github/nubiochenko/ProjetoGitls/blob/main/DEX_BP1_04_Exerc%C3%ADcio_Numpy_Estrutura_de_Arrays.ipynb\" target=\"_parent\"><img src=\"https://colab.research.google.com/assets/colab-badge.svg\" alt=\"Open In Colab\"/></a>"
      ]
    },
    {
      "cell_type": "markdown",
      "metadata": {
        "id": "Me4e2ZieZNcl"
      },
      "source": [
        "![images.png](data:image/png;base64,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)</b> <br>Consultor: Peterson Almeida <br>\n",
        "\n",
        "\n",
        "\n",
        "<h1> Numpy Estrutura de Arrays </h1>\n",
        "<h2> O que é um Array </h2>\n",
        "<b> Geral:</b><br>\n",
        "Array ou arranjo é uma tabela multidimensional com onde cada elemento contém valores do mesmo tipo e Numpy é o pacote mais utilizado em todo o mundo para trabalhar com essa estrutura em Python.\n",
        "<br> <br>\n",
        "\n"
      ]
    },
    {
      "cell_type": "markdown",
      "metadata": {
        "id": "8-4imPNTjISl"
      },
      "source": [
        "<h1> Ilustrando a Estrutura de Arrays </h1>"
      ]
    },
    {
      "cell_type": "markdown",
      "metadata": {
        "id": "r53rFRa9bn9r"
      },
      "source": [
        "![NumPy-shape.png](data:image/png;base64,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)"
      ]
    },
    {
      "cell_type": "markdown",
      "metadata": {
        "id": "DgcyrtDhwe2r"
      },
      "source": [
        "No exemplo 1 temos um array unidimensional e um exemplo de como é o tamanho dele, no segundo temos um array bidimensional, onde o primeiro número do shape represenha a quantidade de linhas e o segundo a quantidade de colunas, logo se acessarmos o item [1,2] estaremos acessando o valor 3. e no último exemplo um array tridimensional onde o primeiro shape permance sendo a quantidade de linhas, o segundo a de colunas e o terceiro a camada, logo a posição [0,0,0] representa o valor 1. <br> <br> Vamos ver como isso funciona na prática, vamos notar algumas ."
      ]
    },
    {
      "cell_type": "code",
      "metadata": {
        "id": "TJJgfJnFbFJ9"
      },
      "source": [
        "#importamos o pacote numpy e referenciamos ele como np, dessa forma agora vamos utilizar np para chamar o pacote\n",
        "import numpy as np"
      ],
      "execution_count": null,
      "outputs": []
    },
    {
      "cell_type": "code",
      "metadata": {
        "colab": {
          "base_uri": "https://localhost:8080/"
        },
        "id": "zm6pp4i5n_Hi",
        "outputId": "2340a511-3a4e-4c4d-fb8c-f5a366028844"
      },
      "source": [
        "array_1d = np.array([1,2,3,4]).reshape(1,4)\n",
        "print(array_1d,array_1d.shape)"
      ],
      "execution_count": null,
      "outputs": [
        {
          "output_type": "stream",
          "text": [
            "[[1 2 3 4]] (1, 4)\n"
          ],
          "name": "stdout"
        }
      ]
    },
    {
      "cell_type": "code",
      "metadata": {
        "colab": {
          "base_uri": "https://localhost:8080/"
        },
        "id": "7Zg6LCaPoINL",
        "outputId": "d8639d56-bb1a-4c3f-8581-2f0441d8ab77"
      },
      "source": [
        "array_2d = np.array([[1,2,3,4],[1,2,3,4],[1,2,3,4]])\n",
        "print(array_2d,array_2d.shape)"
      ],
      "execution_count": null,
      "outputs": [
        {
          "output_type": "stream",
          "text": [
            "[[1 2 3 4]\n",
            " [1 2 3 4]\n",
            " [1 2 3 4]] (3, 4)\n"
          ],
          "name": "stdout"
        }
      ]
    },
    {
      "cell_type": "code",
      "metadata": {
        "colab": {
          "base_uri": "https://localhost:8080/"
        },
        "id": "OJl1PGxShCHG",
        "outputId": "39f49f22-9fa9-4a00-f940-13cdc22b924a"
      },
      "source": [
        "array_3d = np.array([[[1,2,3,4],[1,2,3,4],[1,2,3,4]],\n",
        "                     [[1,2,3,4],[1,2,3,4],[1,2,3,4]],\n",
        "                     [[1,2,3,4],[1,2,3,4],[1,2,3,4]],\n",
        "                     [[1,2,3,4],[1,2,3,4],[1,2,3,4]],\n",
        "                     [[1,2,3,4],[1,2,3,4],[1,2,3,4]]])\n",
        "print(array_3d,array_3d.shape)"
      ],
      "execution_count": null,
      "outputs": [
        {
          "output_type": "stream",
          "text": [
            "[[[1 2 3 4]\n",
            "  [1 2 3 4]\n",
            "  [1 2 3 4]]\n",
            "\n",
            " [[1 2 3 4]\n",
            "  [1 2 3 4]\n",
            "  [1 2 3 4]]\n",
            "\n",
            " [[1 2 3 4]\n",
            "  [1 2 3 4]\n",
            "  [1 2 3 4]]\n",
            "\n",
            " [[1 2 3 4]\n",
            "  [1 2 3 4]\n",
            "  [1 2 3 4]]\n",
            "\n",
            " [[1 2 3 4]\n",
            "  [1 2 3 4]\n",
            "  [1 2 3 4]]] (5, 3, 4)\n"
          ],
          "name": "stdout"
        }
      ]
    },
    {
      "cell_type": "code",
      "metadata": {
        "colab": {
          "base_uri": "https://localhost:8080/"
        },
        "id": "c7G5fzwRhbO5",
        "outputId": "e45ee8c2-f5be-4335-dff1-ce3178269d17"
      },
      "source": [
        "#para criar array dessa forma é preciso que seja um range que tenha a quantidade de elementos para o reshape\n",
        "a = np.array(range(21)).reshape(7,3)\n",
        "print(a,a.shape)"
      ],
      "execution_count": null,
      "outputs": [
        {
          "output_type": "stream",
          "text": [
            "[[ 0  1  2]\n",
            " [ 3  4  5]\n",
            " [ 6  7  8]\n",
            " [ 9 10 11]\n",
            " [12 13 14]\n",
            " [15 16 17]\n",
            " [18 19 20]] (7, 3)\n"
          ],
          "name": "stdout"
        }
      ]
    },
    {
      "cell_type": "code",
      "metadata": {
        "colab": {
          "base_uri": "https://localhost:8080/"
        },
        "id": "dhtRnT5xh5j0",
        "outputId": "7f1c8637-e6e5-4c80-b22e-3395ac7c30d2"
      },
      "source": [
        "#o primeiro elemento de reshape representa  as camadas do array\n",
        "a = np.array(range(12)).reshape(2,2,3)\n",
        "print(a,a.shape)"
      ],
      "execution_count": null,
      "outputs": [
        {
          "output_type": "stream",
          "text": [
            "[[[ 0  1  2]\n",
            "  [ 3  4  5]]\n",
            "\n",
            " [[ 6  7  8]\n",
            "  [ 9 10 11]]] (2, 2, 3)\n"
          ],
          "name": "stdout"
        }
      ]
    },
    {
      "cell_type": "code",
      "metadata": {
        "colab": {
          "base_uri": "https://localhost:8080/"
        },
        "id": "CaAiHdmBiOIz",
        "outputId": "95446cea-9f2a-494e-d15e-f0a8e5c536a4"
      },
      "source": [
        "print(a[1,0,0])\n",
        "print(a[0,0,0])\n",
        "print(a[1,1,0])\n",
        "print(a[1,1,1])\n",
        "print(a[0,1,1])"
      ],
      "execution_count": null,
      "outputs": [
        {
          "output_type": "stream",
          "text": [
            "6\n",
            "0\n",
            "9\n",
            "10\n",
            "4\n"
          ],
          "name": "stdout"
        }
      ]
    },
    {
      "cell_type": "code",
      "metadata": {
        "colab": {
          "base_uri": "https://localhost:8080/"
        },
        "id": "HSfjBN6SkQlK",
        "outputId": "84c6134d-b7f1-4f63-e657-02a389d3c4b1"
      },
      "source": [
        "print(a,'\\n','-'*9)\n",
        "print(a[0:2],'\\n','-'*9)\n",
        "print(a[0:1],'\\n','-'*9)\n",
        "print(a[0:2,1:2],'\\n','-'*9)\n",
        "print(a[0:2,0:1,0:1],'\\n','-'*9)\n",
        "print(a[:,:,:])"
      ],
      "execution_count": null,
      "outputs": [
        {
          "output_type": "stream",
          "text": [
            "[[[ 0  1  2]\n",
            "  [ 3  4  5]]\n",
            "\n",
            " [[ 6  7  8]\n",
            "  [ 9 10 11]]] \n",
            " ---------\n",
            "[[[ 0  1  2]\n",
            "  [ 3  4  5]]\n",
            "\n",
            " [[ 6  7  8]\n",
            "  [ 9 10 11]]] \n",
            " ---------\n",
            "[[[0 1 2]\n",
            "  [3 4 5]]] \n",
            " ---------\n",
            "[[[ 3  4  5]]\n",
            "\n",
            " [[ 9 10 11]]] \n",
            " ---------\n",
            "[[[0]]\n",
            "\n",
            " [[6]]] \n",
            " ---------\n",
            "[[[ 0  1  2]\n",
            "  [ 3  4  5]]\n",
            "\n",
            " [[ 6  7  8]\n",
            "  [ 9 10 11]]]\n"
          ],
          "name": "stdout"
        }
      ]
    },
    {
      "cell_type": "code",
      "metadata": {
        "colab": {
          "base_uri": "https://localhost:8080/"
        },
        "id": "EPFuaGRRkiEk",
        "outputId": "48cf664d-8e40-4377-b4fc-020586e12f2b"
      },
      "source": [
        "for x in a:\n",
        "  for y in x:\n",
        "    for z in y:\n",
        "      print(z)"
      ],
      "execution_count": null,
      "outputs": [
        {
          "output_type": "stream",
          "text": [
            "0\n",
            "1\n",
            "2\n",
            "3\n",
            "4\n",
            "5\n",
            "6\n",
            "7\n",
            "8\n",
            "9\n",
            "10\n",
            "11\n"
          ],
          "name": "stdout"
        }
      ]
    },
    {
      "cell_type": "markdown",
      "metadata": {
        "id": "PxLs9HdhxTiK"
      },
      "source": [
        "<h3> Exercícios </h3>"
      ]
    },
    {
      "cell_type": "markdown",
      "metadata": {
        "id": "pOBaUxRGxYVT"
      },
      "source": [
        "1. Crie um array bidimensional preenchido totalmente com 0."
      ]
    },
    {
      "cell_type": "code",
      "metadata": {
        "id": "D-E7Q2Z2mY5l"
      },
      "source": [
        ""
      ],
      "execution_count": null,
      "outputs": []
    },
    {
      "cell_type": "markdown",
      "metadata": {
        "id": "0r8f-83OxtWT"
      },
      "source": [
        "2. Preencha com 1 somente o primeiro valor desse array e os demais valores preencha com 2."
      ]
    },
    {
      "cell_type": "code",
      "metadata": {
        "id": "3at6mAiY4kH4"
      },
      "source": [
        ""
      ],
      "execution_count": null,
      "outputs": []
    },
    {
      "cell_type": "markdown",
      "metadata": {
        "id": "yCIWemKgxzpt"
      },
      "source": [
        "3. Crie e percorra um array tridimensional preenchido com numeros de 0 a 99, multiplique por 2 todos os valores ímpares."
      ]
    },
    {
      "cell_type": "code",
      "metadata": {
        "id": "VstDXvHLx-9Y"
      },
      "source": [
        ""
      ],
      "execution_count": null,
      "outputs": []
    }
  ]
}